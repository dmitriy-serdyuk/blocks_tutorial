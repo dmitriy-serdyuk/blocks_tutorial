{
 "cells": [
  {
   "cell_type": "markdown",
   "metadata": {},
   "source": [
    "#Blocks tutorial"
   ]
  },
  {
   "cell_type": "markdown",
   "metadata": {},
   "source": [
    "##Bricks\n",
    "\n",
    "###Introduction\n",
    "\n",
    "Blocks provides instruments to extend Theano. The core entity of Blocks is a `Brick` which is a parametrized Theano operation.\n",
    "\n",
    "Bricks can be applied to Theano variables and output Theano variables."
   ]
  },
  {
   "cell_type": "code",
   "execution_count": 1,
   "metadata": {
    "collapsed": false
   },
   "outputs": [
    {
     "name": "stderr",
     "output_type": "stream",
     "text": [
      "Vendor:  Continuum Analytics, Inc.\n",
      "Package: mkl\n",
      "Message: trial mode expires in 30 days\n"
     ]
    },
    {
     "data": {
      "text/plain": [
       "True"
      ]
     },
     "execution_count": 1,
     "metadata": {},
     "output_type": "execute_result"
    }
   ],
   "source": [
    "from __future__ import print_function\n",
    "import theano\n",
    "from theano import tensor\n",
    "from blocks.bricks import Linear\n",
    "x = tensor.matrix('features') # dim: (batch, features)\n",
    "linear = Linear(input_dim=784, output_dim=10)\n",
    "y_hat = linear.apply(x)\n",
    "y_hat = abs(2 * y_hat)\n",
    "isinstance(y_hat, theano.Variable)"
   ]
  },
  {
   "cell_type": "markdown",
   "metadata": {},
   "source": [
    "Now we can compile a Theano function"
   ]
  },
  {
   "cell_type": "code",
   "execution_count": 2,
   "metadata": {
    "collapsed": false
   },
   "outputs": [
    {
     "data": {
      "text/plain": [
       "array([[ nan,  nan,  nan,  nan,  nan,  nan,  nan,  nan,  nan,  nan],\n",
       "       [ nan,  nan,  nan,  nan,  nan,  nan,  nan,  nan,  nan,  nan],\n",
       "       [ nan,  nan,  nan,  nan,  nan,  nan,  nan,  nan,  nan,  nan],\n",
       "       [ nan,  nan,  nan,  nan,  nan,  nan,  nan,  nan,  nan,  nan],\n",
       "       [ nan,  nan,  nan,  nan,  nan,  nan,  nan,  nan,  nan,  nan],\n",
       "       [ nan,  nan,  nan,  nan,  nan,  nan,  nan,  nan,  nan,  nan],\n",
       "       [ nan,  nan,  nan,  nan,  nan,  nan,  nan,  nan,  nan,  nan],\n",
       "       [ nan,  nan,  nan,  nan,  nan,  nan,  nan,  nan,  nan,  nan],\n",
       "       [ nan,  nan,  nan,  nan,  nan,  nan,  nan,  nan,  nan,  nan],\n",
       "       [ nan,  nan,  nan,  nan,  nan,  nan,  nan,  nan,  nan,  nan]])"
      ]
     },
     "execution_count": 2,
     "metadata": {},
     "output_type": "execute_result"
    }
   ],
   "source": [
    "import numpy\n",
    "from theano import function\n",
    "f = function([x], y_hat)\n",
    "f(numpy.zeros((10, 784)))"
   ]
  },
  {
   "cell_type": "markdown",
   "metadata": {},
   "source": [
    "The function works like we expected except that the output is NaNs. The reason for this is that all the shared variables are initialized with NaN at the beginning. So, if your output is NaN, check that you didn't forget to initialize all the bricks properly."
   ]
  },
  {
   "cell_type": "code",
   "execution_count": 3,
   "metadata": {
    "collapsed": false
   },
   "outputs": [
    {
     "data": {
      "text/plain": [
       "array([[ 0.,  0.,  0.,  0.,  0.,  0.,  0.,  0.,  0.,  0.],\n",
       "       [ 0.,  0.,  0.,  0.,  0.,  0.,  0.,  0.,  0.,  0.],\n",
       "       [ 0.,  0.,  0.,  0.,  0.,  0.,  0.,  0.,  0.,  0.],\n",
       "       [ 0.,  0.,  0.,  0.,  0.,  0.,  0.,  0.,  0.,  0.],\n",
       "       [ 0.,  0.,  0.,  0.,  0.,  0.,  0.,  0.,  0.,  0.],\n",
       "       [ 0.,  0.,  0.,  0.,  0.,  0.,  0.,  0.,  0.,  0.],\n",
       "       [ 0.,  0.,  0.,  0.,  0.,  0.,  0.,  0.,  0.,  0.],\n",
       "       [ 0.,  0.,  0.,  0.,  0.,  0.,  0.,  0.,  0.,  0.],\n",
       "       [ 0.,  0.,  0.,  0.,  0.,  0.,  0.,  0.,  0.,  0.],\n",
       "       [ 0.,  0.,  0.,  0.,  0.,  0.,  0.,  0.,  0.,  0.]])"
      ]
     },
     "execution_count": 3,
     "metadata": {},
     "output_type": "execute_result"
    }
   ],
   "source": [
    "from blocks.initialization import Constant\n",
    "linear.weights_init = Constant(1.)\n",
    "linear.biases_init = Constant(0.)\n",
    "linear.initialize()\n",
    "f(numpy.zeros((10, 784)))"
   ]
  },
  {
   "cell_type": "markdown",
   "metadata": {},
   "source": [
    "Every brick has a list of parameters and a list of its children"
   ]
  },
  {
   "cell_type": "code",
   "execution_count": 4,
   "metadata": {
    "collapsed": false
   },
   "outputs": [
    {
     "name": "stdout",
     "output_type": "stream",
     "text": [
      "[W, b]\n",
      "[]\n"
     ]
    }
   ],
   "source": [
    "print(linear.parameters)\n",
    "print(linear.children)"
   ]
  },
  {
   "cell_type": "markdown",
   "metadata": {},
   "source": [
    "`Linear` brick doesn't have any children. `MLP` is a sequence of linear transformations and activations"
   ]
  },
  {
   "cell_type": "code",
   "execution_count": 6,
   "metadata": {
    "collapsed": false
   },
   "outputs": [
    {
     "data": {
      "text/plain": [
       "[<blocks.bricks.Linear object at 0x7f37f4d08b50: name=linear_0>, <blocks.bricks.Tanh object at 0x7f37f4d08990: name=tanh>, <blocks.bricks.Linear object at 0x7f37f4d08bd0: name=linear_1>, <blocks.bricks.Softmax object at 0x7f37f4d089d0: name=softmax>]"
      ]
     },
     "execution_count": 6,
     "metadata": {},
     "output_type": "execute_result"
    }
   ],
   "source": [
    "from blocks.bricks import MLP, Tanh, Softmax\n",
    "from blocks.initialization import IsotropicGaussian\n",
    "mlp = MLP([Tanh(), Softmax()], [784, 100, 10],\n",
    "          weights_init=IsotropicGaussian(0.01),\n",
    "          biases_init=Constant(0))\n",
    "mlp.initialize()\n",
    "probs = mlp.apply(tensor.flatten(x, outdim=2))\n",
    "mlp.children"
   ]
  },
  {
   "cell_type": "markdown",
   "metadata": {},
   "source": [
    "Note that activations and costs are also bricks"
   ]
  },
  {
   "cell_type": "code",
   "execution_count": 7,
   "metadata": {
    "collapsed": false
   },
   "outputs": [],
   "source": [
    "from blocks.bricks.cost import CategoricalCrossEntropy\n",
    "y = tensor.lmatrix('targets')\n",
    "cost = CategoricalCrossEntropy().apply(y.flatten(), probs)"
   ]
  },
  {
   "cell_type": "markdown",
   "metadata": {},
   "source": [
    "###Brick lifecycle\n",
    "The life-cycle of a brick is as follows:\n",
    "\n",
    "1. **Configuration:** set (part of) the *attributes* of the brick. Can take\n",
    "   place when the brick object is created, by setting the arguments of the\n",
    "   constructor, or later, by setting the attributes of the brick object. No\n",
    "   Theano variable is created in this phase.\n",
    "\n",
    "2. **Allocation:** (optional) allocate the Theano shared variables for the\n",
    "   *parameters* of the Brick. When `Brick.allocate` is called, the\n",
    "   required Theano variables are allocated and initialized by default to ``NaN``.\n",
    "\n",
    "3. **Application:** instantiate a part of the Theano computational graph,\n",
    "   linking the inputs and the outputs of the brick through its *parameters*\n",
    "   and according to the *attributes*. Cannot be performed (i.e., results in an\n",
    "   error) if the Brick object is not fully configured.\n",
    "\n",
    "4. **Initialization:** set the **numerical values** of the Theano variables\n",
    "   that store the *parameters* of the Brick. The user-provided value will\n",
    "   replace the default initialization value.\n",
    "\n",
    "####Note\n",
    "   If the Theano variables of the brick object have not been allocated when \n",
    "   `Application.apply` is called, Blocks will quietly call \n",
    "   `Brick.allocate`.\n",
    "\n",
    "For details see [this](http://blocks.readthedocs.org/en/latest/bricks_overview.html#bricks-life-cycle) tutorial."
   ]
  },
  {
   "cell_type": "code",
   "execution_count": 8,
   "metadata": {
    "collapsed": false
   },
   "outputs": [
    {
     "data": {
      "text/plain": [
       "<blocks.initialization.IsotropicGaussian at 0x7f37f4d08a50>"
      ]
     },
     "execution_count": 8,
     "metadata": {},
     "output_type": "execute_result"
    }
   ],
   "source": [
    "mlp.children[0].weights_init"
   ]
  },
  {
   "cell_type": "markdown",
   "metadata": {},
   "source": [
    "##Graph filtering and modifications\n",
    "Using brick annotations one can easily extract variables from the computation graph"
   ]
  },
  {
   "cell_type": "code",
   "execution_count": 9,
   "metadata": {
    "collapsed": false
   },
   "outputs": [
    {
     "name": "stdout",
     "output_type": "stream",
     "text": [
      "W1 brick: linear_0\n",
      "W2 brick: linear_1\n"
     ]
    }
   ],
   "source": [
    "from blocks.graph import ComputationGraph\n",
    "from blocks.filter import VariableFilter\n",
    "from blocks.roles import WEIGHT\n",
    "\n",
    "cg = ComputationGraph([cost])\n",
    "W1, W2 = VariableFilter(roles=[WEIGHT])(cg.variables)\n",
    "print(\"W1 brick:\", W1.tag.annotations[0].name)\n",
    "print(\"W2 brick:\", W2.tag.annotations[0].name)"
   ]
  },
  {
   "cell_type": "markdown",
   "metadata": {},
   "source": [
    "Now we can apply L2 regularization"
   ]
  },
  {
   "cell_type": "code",
   "execution_count": 10,
   "metadata": {
    "collapsed": true
   },
   "outputs": [],
   "source": [
    "cost = cost + .00005 * (W1 ** 2).sum() + .00005 * (W2 ** 2).sum()\n",
    "cost.name = 'final_cost'"
   ]
  },
  {
   "cell_type": "markdown",
   "metadata": {},
   "source": [
    "##Main loop"
   ]
  },
  {
   "cell_type": "code",
   "execution_count": 11,
   "metadata": {
    "collapsed": false
   },
   "outputs": [
    {
     "ename": "IOError",
     "evalue": "mnist.hdf5 not found in Fuel's data path",
     "output_type": "error",
     "traceback": [
      "\u001b[1;31m---------------------------------------------------------------------------\u001b[0m",
      "\u001b[1;31mIOError\u001b[0m                                   Traceback (most recent call last)",
      "\u001b[1;32m<ipython-input-11-095f89da43ec>\u001b[0m in \u001b[0;36m<module>\u001b[1;34m()\u001b[0m\n\u001b[0;32m      1\u001b[0m \u001b[1;32mfrom\u001b[0m \u001b[0mfuel\u001b[0m\u001b[1;33m.\u001b[0m\u001b[0mdatasets\u001b[0m\u001b[1;33m.\u001b[0m\u001b[0mmnist\u001b[0m \u001b[1;32mimport\u001b[0m \u001b[0mMNIST\u001b[0m\u001b[1;33m\u001b[0m\u001b[0m\n\u001b[1;32m----> 2\u001b[1;33m \u001b[0mmnist_train\u001b[0m \u001b[1;33m=\u001b[0m \u001b[0mMNIST\u001b[0m\u001b[1;33m(\u001b[0m\u001b[1;33m(\u001b[0m\u001b[1;34m\"train\"\u001b[0m\u001b[1;33m,\u001b[0m\u001b[1;33m)\u001b[0m\u001b[1;33m)\u001b[0m\u001b[1;33m\u001b[0m\u001b[0m\n\u001b[0m\u001b[0;32m      3\u001b[0m \u001b[0mmnist_test\u001b[0m \u001b[1;33m=\u001b[0m \u001b[0mMNIST\u001b[0m\u001b[1;33m(\u001b[0m\u001b[1;33m(\u001b[0m\u001b[1;34m\"test\"\u001b[0m\u001b[1;33m,\u001b[0m\u001b[1;33m)\u001b[0m\u001b[1;33m)\u001b[0m\u001b[1;33m\u001b[0m\u001b[0m\n",
      "\u001b[1;32m/data/miniconda/lib/python2.7/site-packages/fuel-0.0.1-py2.7-linux-x86_64.egg/fuel/datasets/mnist.pyc\u001b[0m in \u001b[0;36m__init__\u001b[1;34m(self, which_sets, **kwargs)\u001b[0m\n\u001b[0;32m     30\u001b[0m         \u001b[0mkwargs\u001b[0m\u001b[1;33m.\u001b[0m\u001b[0msetdefault\u001b[0m\u001b[1;33m(\u001b[0m\u001b[1;34m'load_in_memory'\u001b[0m\u001b[1;33m,\u001b[0m \u001b[0mTrue\u001b[0m\u001b[1;33m)\u001b[0m\u001b[1;33m\u001b[0m\u001b[0m\n\u001b[0;32m     31\u001b[0m         super(MNIST, self).__init__(\n\u001b[1;32m---> 32\u001b[1;33m             \u001b[0mfile_or_path\u001b[0m\u001b[1;33m=\u001b[0m\u001b[0mfind_in_data_path\u001b[0m\u001b[1;33m(\u001b[0m\u001b[0mself\u001b[0m\u001b[1;33m.\u001b[0m\u001b[0mfilename\u001b[0m\u001b[1;33m)\u001b[0m\u001b[1;33m,\u001b[0m\u001b[1;33m\u001b[0m\u001b[0m\n\u001b[0m\u001b[0;32m     33\u001b[0m             which_sets=which_sets, **kwargs)\n",
      "\u001b[1;32m/data/miniconda/lib/python2.7/site-packages/fuel-0.0.1-py2.7-linux-x86_64.egg/fuel/utils.pyc\u001b[0m in \u001b[0;36mfind_in_data_path\u001b[1;34m(filename)\u001b[0m\n\u001b[0;32m    421\u001b[0m         \u001b[1;32mif\u001b[0m \u001b[0mos\u001b[0m\u001b[1;33m.\u001b[0m\u001b[0mpath\u001b[0m\u001b[1;33m.\u001b[0m\u001b[0misfile\u001b[0m\u001b[1;33m(\u001b[0m\u001b[0mfile_path\u001b[0m\u001b[1;33m)\u001b[0m\u001b[1;33m:\u001b[0m\u001b[1;33m\u001b[0m\u001b[0m\n\u001b[0;32m    422\u001b[0m             \u001b[1;32mreturn\u001b[0m \u001b[0mfile_path\u001b[0m\u001b[1;33m\u001b[0m\u001b[0m\n\u001b[1;32m--> 423\u001b[1;33m     \u001b[1;32mraise\u001b[0m \u001b[0mIOError\u001b[0m\u001b[1;33m(\u001b[0m\u001b[1;34m\"{} not found in Fuel's data path\"\u001b[0m\u001b[1;33m.\u001b[0m\u001b[0mformat\u001b[0m\u001b[1;33m(\u001b[0m\u001b[0mfilename\u001b[0m\u001b[1;33m)\u001b[0m\u001b[1;33m)\u001b[0m\u001b[1;33m\u001b[0m\u001b[0m\n\u001b[0m\u001b[0;32m    424\u001b[0m \u001b[1;33m\u001b[0m\u001b[0m\n\u001b[0;32m    425\u001b[0m \u001b[1;33m\u001b[0m\u001b[0m\n",
      "\u001b[1;31mIOError\u001b[0m: mnist.hdf5 not found in Fuel's data path"
     ]
    }
   ],
   "source": [
    "from fuel.datasets.mnist import MNIST\n",
    "mnist_train = MNIST((\"train\",))\n",
    "mnist_test = MNIST((\"test\",))"
   ]
  },
  {
   "cell_type": "code",
   "execution_count": 68,
   "metadata": {
    "collapsed": false
   },
   "outputs": [
    {
     "ename": "NameError",
     "evalue": "name 'algorithm' is not defined",
     "output_type": "error",
     "traceback": [
      "\u001b[1;31m---------------------------------------------------------------------------\u001b[0m",
      "\u001b[1;31mNameError\u001b[0m                                 Traceback (most recent call last)",
      "\u001b[1;32m<ipython-input-68-13eac79257ef>\u001b[0m in \u001b[0;36m<module>\u001b[1;34m()\u001b[0m\n\u001b[0;32m      1\u001b[0m \u001b[1;32mfrom\u001b[0m \u001b[0mblocks\u001b[0m\u001b[1;33m.\u001b[0m\u001b[0mmain_loop\u001b[0m \u001b[1;32mimport\u001b[0m \u001b[0mMainLoop\u001b[0m\u001b[1;33m\u001b[0m\u001b[0m\n\u001b[0;32m      2\u001b[0m main_loop = MainLoop(\n\u001b[1;32m----> 3\u001b[1;33m         \u001b[0malgorithm\u001b[0m\u001b[1;33m,\u001b[0m\u001b[1;33m\u001b[0m\u001b[0m\n\u001b[0m\u001b[0;32m      4\u001b[0m         Flatten(\n\u001b[0;32m      5\u001b[0m             DataStream.default_stream(\n",
      "\u001b[1;31mNameError\u001b[0m: name 'algorithm' is not defined"
     ]
    }
   ],
   "source": [
    "from blocks.main_loop import MainLoop\n",
    "main_loop = MainLoop(\n",
    "        algorithm,\n",
    "        Flatten(\n",
    "            DataStream.default_stream(\n",
    "                mnist_train,\n",
    "                iteration_scheme=SequentialScheme(\n",
    "                    mnist_train.num_examples, 50)),\n",
    "            which_sources=('features',)),\n",
    "        model=Model(cost),\n",
    "        extensions=[inishAfter(after_n_batches=5)])\n",
    "\n",
    "main_loop.run()"
   ]
  },
  {
   "cell_type": "markdown",
   "metadata": {},
   "source": [
    "###Algorithms"
   ]
  },
  {
   "cell_type": "code",
   "execution_count": 71,
   "metadata": {
    "collapsed": false
   },
   "outputs": [
    {
     "ename": "TypeError",
     "evalue": "copy() got an unexpected keyword argument 'name'",
     "output_type": "error",
     "traceback": [
      "\u001b[1;31m---------------------------------------------------------------------------\u001b[0m",
      "\u001b[1;31mTypeError\u001b[0m                                 Traceback (most recent call last)",
      "\u001b[1;32m<ipython-input-71-312c400818df>\u001b[0m in \u001b[0;36m<module>\u001b[1;34m()\u001b[0m\n\u001b[0;32m      2\u001b[0m algorithm = GradientDescent(\n\u001b[0;32m      3\u001b[0m     \u001b[0mcost\u001b[0m\u001b[1;33m=\u001b[0m\u001b[0mcost\u001b[0m\u001b[1;33m,\u001b[0m \u001b[0mparameters\u001b[0m\u001b[1;33m=\u001b[0m\u001b[0mcg\u001b[0m\u001b[1;33m.\u001b[0m\u001b[0mparameters\u001b[0m\u001b[1;33m,\u001b[0m\u001b[1;33m\u001b[0m\u001b[0m\n\u001b[1;32m----> 4\u001b[1;33m     step_rule=Scale(learning_rate=0.1))\n\u001b[0m",
      "\u001b[1;32m/home/dima/workspace/blocks/blocks/algorithms/__init__.pyc\u001b[0m in \u001b[0;36m__init__\u001b[1;34m(self, step_rule, gradients, known_grads, consider_constant, on_unused_sources, theano_func_kwargs, **kwargs)\u001b[0m\n\u001b[0;32m    232\u001b[0m \u001b[1;33m\u001b[0m\u001b[0m\n\u001b[0;32m    233\u001b[0m         self.total_gradient_norm = l2_norm(\n\u001b[1;32m--> 234\u001b[1;33m             self.gradients.values()).copy(name=\"total_gradient_norm\")\n\u001b[0m\u001b[0;32m    235\u001b[0m         self.steps, self.step_rule_updates = (\n\u001b[0;32m    236\u001b[0m             self.step_rule.compute_steps(self.gradients))\n",
      "\u001b[1;31mTypeError\u001b[0m: copy() got an unexpected keyword argument 'name'"
     ]
    }
   ],
   "source": [
    "from blocks.algorithms import GradientDescent, Scale\n",
    "algorithm = GradientDescent(\n",
    "    cost=cost, parameters=cg.parameters,\n",
    "    step_rule=Scale(learning_rate=0.1))"
   ]
  },
  {
   "cell_type": "markdown",
   "metadata": {},
   "source": [
    "###Logging"
   ]
  },
  {
   "cell_type": "markdown",
   "metadata": {},
   "source": [
    "###Monitoring"
   ]
  },
  {
   "cell_type": "code",
   "execution_count": null,
   "metadata": {
    "collapsed": true
   },
   "outputs": [],
   "source": []
  }
 ],
 "metadata": {
  "kernelspec": {
   "display_name": "Python 2",
   "language": "python",
   "name": "python2"
  },
  "language_info": {
   "codemirror_mode": {
    "name": "ipython",
    "version": 2
   },
   "file_extension": ".py",
   "mimetype": "text/x-python",
   "name": "python",
   "nbconvert_exporter": "python",
   "pygments_lexer": "ipython2",
   "version": "2.7.10"
  }
 },
 "nbformat": 4,
 "nbformat_minor": 0
}
